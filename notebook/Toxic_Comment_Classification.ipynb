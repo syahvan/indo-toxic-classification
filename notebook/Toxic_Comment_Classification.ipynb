{
  "nbformat": 4,
  "nbformat_minor": 0,
  "metadata": {
    "colab": {
      "provenance": []
    },
    "kernelspec": {
      "name": "python3",
      "display_name": "Python 3"
    },
    "language_info": {
      "name": "python"
    }
  },
  "cells": [
    {
      "cell_type": "markdown",
      "source": [
        "# Identifikasi Komentar Toxic pada Konten Media Sosial di Indonesia"
      ],
      "metadata": {
        "id": "5fuu5nbMvVLd"
      }
    },
    {
      "cell_type": "markdown",
      "source": [
        "## Background\n",
        "\n",
        "Penggunaan internet dan media sosial di Indonesia telah mengalami pertumbuhan pesat dalam beberapa tahun terakhir. Seiring dengan perkembangan teknologi dan ketersediaan akses internet yang semakin mudah, banyak orang di Indonesia telah bergabung dengan berbagai platform media sosial seperti Facebook, Twitter, Instagram, YouTube, bahkan media sosial lokal seperti Kaskus. Berdasarkan data yang diterbitkan oleh datareportal.com pada Januari 2023, jumlah pengguna internet di Indonesia mencapai angka yang sangat signifikan, yaitu sekitar 212,9 juta orang atau 77% dari total populasi. Selain itu, tercatat sekitar 167 juta orang atau 60,4% dari total populasi merupakan pengguna media sosial aktif. Jumlah ini menandakan bahwa lebih dari setengah populasi Indonesia memiliki akses ke internet dan berpotensi menggunakan platform media sosial.\n",
        "\n",
        "<center>\n",
        "<img src=\"https://raw.githubusercontent.com/syahvan/indo-toxic-comment-classification/main/image/Data-Tren-Pengguna-Internet-dan-Media-sosial-di-Indonesia-Tahun-2023.png\" width=\"700\"/>\n",
        "</center>\n",
        "\n",
        "Tingginya penetrasi internet dan media sosial di Indonesia juga menyebabkan banyak orang menghabiskan waktu harian mereka untuk berinteraksi di platform tersebut. Menurut data dari sumber yang sama, pada Januari 2023, rata-rata pengguna internet di Indonesia menghabiskan waktu lebih dari 3 jam per hari untuk beraktivitas di media sosial. Fenomena ini menunjukkan betapa signifikannya peran media sosial dalam kehidupan sehari-hari masyarakat Indonesia.\n",
        "\n",
        "<center>\n",
        "<img src=\"https://raw.githubusercontent.com/syahvan/indo-toxic-comment-classification/main/image/Waktu-Orang-Indonesia-Mengakses-Media-Digital-Tahun-2023.png\" width=\"700\"/>\n",
        "</center>\n",
        "\n",
        "Sayangnya, pertumbuhan penggunaan media sosial juga membawa dampak negatif. Salah satunya adalah adanya komentar-komentar toxic di berbagai platform media sosial. Komentar-komentar ini bisa berupa ujaran kebencian, pornografi, radikalisme, pelecehan, intimidasi, atau ancaman yang ditujukan kepada individu atau kelompok tertentu. Komentar toxic seperti ini dapat mengakibatkan perpecahan masyarakat, kerusuhan antar individu dan kelompok, gangguan emosional, dan bahkan berpotensi membahayakan kesejahteraan mental para korbannya. Oleh karenanya, pendeteksian komentar-komentar yang mengandung unsur toxic menjadi sesuatu yang harus dikritisi.\n",
        "\n",
        "Dalam menghadapi dan menangani masalah komentar toxic di media sosial, diperlukan suatu pendekatan yang efektif dan proaktif. Salah satu solusi yang dapat diadopsi adalah dengan membangun sebuah sistem klasifikasi komentar toxic menggunakan model machine learning. Sistem ini bertujuan untuk secara otomatis mengidentifikasi komentar-komentar yang mengandung unsur toxic sehingga dapat segera ditindaklanjuti oleh pihak platform media sosial. Dengan demikian, diharapkan akan tercipta lingkungan media sosial yang lebih aman, positif, dan harmonis bagi seluruh penggunanya."
      ],
      "metadata": {
        "id": "Sdg-UWncEsiH"
      }
    },
    {
      "cell_type": "markdown",
      "source": [
        "## Problem Statement\n",
        "\n",
        "Tingkat pertumbuhan dan penetrasi internet serta media sosial yang tinggi di Indonesia telah menyebabkan munculnya dampak negatif berupa komentar-komentar toxic di berbagai platform media sosial. Komentar-komentar ini mencakup ujaran kebencian, pornografi, radikalisme, pelecehan, intimidasi, atau ancaman yang dapat mengancam keamanan, kesejahteraan mental, dan harmoni masyarakat. Kurangnya pendekatan proaktif untuk mengidentifikasi dan menangani komentar-komentar toxic ini mengakibatkan risiko konflik, kerusuhan, serta penurunan kualitas pengalaman pengguna. Oleh karena itu, diperlukan sebuah solusi yang efektif dan otomatis, seperti sistem klasifikasi komentar toxic menggunakan model machine learning untuk mengatasi masalah ini dan menciptakan lingkungan media sosial yang lebih aman dan positif bagi seluruh penggunanya.\n",
        "\n",
        "\n",
        "\n",
        "\n"
      ],
      "metadata": {
        "id": "4qviRjFgyZI5"
      }
    },
    {
      "cell_type": "markdown",
      "source": [
        "## Project Idea\n",
        "\n",
        "Pencegahan penyebaran komentar toxic dapat dilakukan dengan melakukan identifikasi sedini mungkin sebelum komentar toxic tersebut menimbulkan potensi konflik di masyarakat. Oleh karena itu, pada project ini akan dikembangkan sebuah model klasifikasi untuk mengidentifikasi apakah sebuah komentar berupa tulisan pada media sosial Twitter, Instagram, dan Kaskus mengandung unsur toxic atau tidak."
      ],
      "metadata": {
        "id": "osGFRl203i3V"
      }
    },
    {
      "cell_type": "markdown",
      "source": [
        "## Problem Scope\n",
        "\n",
        "Pada project ini akan digunakan sebuah data komentar yang ada pada sosial media Twitter, Instagram, dan Kaskus yang diambil dari [Github](https://github.com/ahmadizzan/netifier). Dataset ini mengandung informasi sebagai berikut:\n",
        "\n",
        "\n",
        "*   `original_text`: komentar yang dimuat\n",
        "*   `source`: sumber media sosial dari komentar yang dimuat\n",
        "*   `pornografi`: label apakah komentar mengandung unsur pornografi (0 tidak, 1 iya)\n",
        "*   `sara`: label apakah komentar mengandung unsur sara (0 tidak, 1 iya)\n",
        "*   `radikalisme`: label apakah komentar mengandung unsur radikalisme (0 tidak, 1 iya)\n",
        "*   `pencemaran_nama_baik`: label apakah komentar mengandung unsur pencemaran nama baik (0 tidak, 1 iya)\n",
        "\n",
        "\n",
        "Selanjutnya, untuk mengidentifikasi apakah komentar tersebut toxic atau tidak, kita akan menggunakan multilabel yaitu variabel `pornografi`, `sara`, `radikalisme` dan `pencemaran_nama_baik`. Sedangkan untuk prediktornya akan menggunakan variabel `original_text` yang akan diekstrak dan dibersihkan lebih lanjut agar lebih mendukung dan mempermudah pemodelan.\n",
        "\n",
        "Untuk modelnya sendiri akan menggunakan algoritma Naive Bayes, Random Forest, LSTM, dan transformer seperti BERT dan IndoBERT. Nantinya masing-masing model tersebut akan dibandingkan performanya untuk mengetahui model mana yang paling baik untuk digunakan.\n"
      ],
      "metadata": {
        "id": "d7U-B6kc4U6O"
      }
    },
    {
      "cell_type": "markdown",
      "source": [
        "## Output\n",
        "\n",
        "Output dari project ini berupa dashboard analysis yang menampilkan exploratory data untuk menunjukkan kata-kata yang menyebabkan sebuah komentar berpotensi untuk digolongkan sebagai sebuah komentar toxic atau bukan. Selain itu, user juga dapat menginputkan teks komentar yang nantinya oleh model akan diidentifikasi sebagai komentar toxic/bukan."
      ],
      "metadata": {
        "id": "cEjDo5cU-B4a"
      }
    },
    {
      "cell_type": "markdown",
      "source": [
        "## Business Impact\n",
        "\n",
        "Dengan membangun sistem klasifikasi komentar toxic menggunakan model machine learning, platform media sosial dapat meningkatkan pengalaman pengguna dengan menciptakan lingkungan yang lebih aman dan positif. Ini tidak hanya akan meningkatkan pengalaman pengguna dan loyalitas pelanggan terhadap platform, tetapi juga dapat membantu menjaga reputasi bisnis, mengurangi potensi konflik atau kerusuhan yang dapat merugikan, serta mendukung kesejahteraan mental para pengguna. Selain identifikasi pada media sosial, project ini juga bisa dikembangkan untuk mendeteksi dini komentar toxic pada chat game yang juga rentan terhadap komentar toxic, atau media lainnya yang menyediakan comment section untuk meminimalisir potensi konflik atau kerusuhan antar pengguna. Dengan demikian, solusi ini dapat berkontribusi pada pembentukan ekosistem digital yang sehat dan harmonis di Indonesia."
      ],
      "metadata": {
        "id": "0M2Ztcjn-XTC"
      }
    },
    {
      "cell_type": "markdown",
      "source": [
        "## Exploratory Data Analysis"
      ],
      "metadata": {
        "id": "Oc1pIrVy_vsi"
      }
    },
    {
      "cell_type": "markdown",
      "source": [
        "Pertama-tama mari kita load library dan dataset yang akan digunakan."
      ],
      "metadata": {
        "id": "kV93igGhAtKB"
      }
    },
    {
      "cell_type": "markdown",
      "source": [
        "### Load Library"
      ],
      "metadata": {
        "id": "m3SQX682_0tf"
      }
    },
    {
      "cell_type": "code",
      "execution_count": 1,
      "metadata": {
        "id": "twQfnhbwn6cZ"
      },
      "outputs": [],
      "source": [
        "import numpy as np\n",
        "import pandas as pd\n",
        "import matplotlib.pyplot as plt\n",
        "import seaborn as sns\n",
        "import re\n",
        "from nltk.tokenize import WordPunctTokenizer\n",
        "import itertools"
      ]
    },
    {
      "cell_type": "markdown",
      "source": [
        "### Load Data"
      ],
      "metadata": {
        "id": "oMGR0r7hBID6"
      }
    },
    {
      "cell_type": "code",
      "source": [
        "data_train = pd.read_csv('https://raw.githubusercontent.com/syahvan/indo-toxic-comment-classification/main/data/train.csv')\n",
        "data_test = pd.read_csv('https://raw.githubusercontent.com/syahvan/indo-toxic-comment-classification/main/data/test.csv')"
      ],
      "metadata": {
        "id": "J0j6pfD_oNiY"
      },
      "execution_count": 2,
      "outputs": []
    },
    {
      "cell_type": "code",
      "source": [
        "data_train.head()"
      ],
      "metadata": {
        "colab": {
          "base_uri": "https://localhost:8080/",
          "height": 206
        },
        "id": "v1FaSCAOoQ64",
        "outputId": "6380534e-1c6e-4d18-f88b-86bff2c8ecf3"
      },
      "execution_count": 3,
      "outputs": [
        {
          "output_type": "execute_result",
          "data": {
            "text/plain": [
              "                                       original_text     source  pornografi  \\\n",
              "0  [QUOTE=jessepinkman16;5a50ac34d89b093f368b456e...     kaskus           0   \n",
              "1  @verosvante kita2 aja nitizen yang pada kepo,t...  instagram           0   \n",
              "2  \"#SidangAhok smg sipenista agama n ateknya mat...    twitter           0   \n",
              "3  @bolususulembang.jkt barusan baca undang2 ini....  instagram           0   \n",
              "4  bikin anak mulu lu nof \\nkaga mikir apa kasian...     kaskus           0   \n",
              "\n",
              "   sara  radikalisme  pencemaran_nama_baik  \n",
              "0     0            0                     1  \n",
              "1     0            0                     0  \n",
              "2     1            1                     1  \n",
              "3     0            0                     0  \n",
              "4     0            0                     0  "
            ],
            "text/html": [
              "\n",
              "  <div id=\"df-befd1a96-9365-43ea-a9d5-454077dc0fa7\" class=\"colab-df-container\">\n",
              "    <div>\n",
              "<style scoped>\n",
              "    .dataframe tbody tr th:only-of-type {\n",
              "        vertical-align: middle;\n",
              "    }\n",
              "\n",
              "    .dataframe tbody tr th {\n",
              "        vertical-align: top;\n",
              "    }\n",
              "\n",
              "    .dataframe thead th {\n",
              "        text-align: right;\n",
              "    }\n",
              "</style>\n",
              "<table border=\"1\" class=\"dataframe\">\n",
              "  <thead>\n",
              "    <tr style=\"text-align: right;\">\n",
              "      <th></th>\n",
              "      <th>original_text</th>\n",
              "      <th>source</th>\n",
              "      <th>pornografi</th>\n",
              "      <th>sara</th>\n",
              "      <th>radikalisme</th>\n",
              "      <th>pencemaran_nama_baik</th>\n",
              "    </tr>\n",
              "  </thead>\n",
              "  <tbody>\n",
              "    <tr>\n",
              "      <th>0</th>\n",
              "      <td>[QUOTE=jessepinkman16;5a50ac34d89b093f368b456e...</td>\n",
              "      <td>kaskus</td>\n",
              "      <td>0</td>\n",
              "      <td>0</td>\n",
              "      <td>0</td>\n",
              "      <td>1</td>\n",
              "    </tr>\n",
              "    <tr>\n",
              "      <th>1</th>\n",
              "      <td>@verosvante kita2 aja nitizen yang pada kepo,t...</td>\n",
              "      <td>instagram</td>\n",
              "      <td>0</td>\n",
              "      <td>0</td>\n",
              "      <td>0</td>\n",
              "      <td>0</td>\n",
              "    </tr>\n",
              "    <tr>\n",
              "      <th>2</th>\n",
              "      <td>\"#SidangAhok smg sipenista agama n ateknya mat...</td>\n",
              "      <td>twitter</td>\n",
              "      <td>0</td>\n",
              "      <td>1</td>\n",
              "      <td>1</td>\n",
              "      <td>1</td>\n",
              "    </tr>\n",
              "    <tr>\n",
              "      <th>3</th>\n",
              "      <td>@bolususulembang.jkt barusan baca undang2 ini....</td>\n",
              "      <td>instagram</td>\n",
              "      <td>0</td>\n",
              "      <td>0</td>\n",
              "      <td>0</td>\n",
              "      <td>0</td>\n",
              "    </tr>\n",
              "    <tr>\n",
              "      <th>4</th>\n",
              "      <td>bikin anak mulu lu nof \\nkaga mikir apa kasian...</td>\n",
              "      <td>kaskus</td>\n",
              "      <td>0</td>\n",
              "      <td>0</td>\n",
              "      <td>0</td>\n",
              "      <td>0</td>\n",
              "    </tr>\n",
              "  </tbody>\n",
              "</table>\n",
              "</div>\n",
              "    <div class=\"colab-df-buttons\">\n",
              "\n",
              "  <div class=\"colab-df-container\">\n",
              "    <button class=\"colab-df-convert\" onclick=\"convertToInteractive('df-befd1a96-9365-43ea-a9d5-454077dc0fa7')\"\n",
              "            title=\"Convert this dataframe to an interactive table.\"\n",
              "            style=\"display:none;\">\n",
              "\n",
              "  <svg xmlns=\"http://www.w3.org/2000/svg\" height=\"24px\" viewBox=\"0 -960 960 960\">\n",
              "    <path d=\"M120-120v-720h720v720H120Zm60-500h600v-160H180v160Zm220 220h160v-160H400v160Zm0 220h160v-160H400v160ZM180-400h160v-160H180v160Zm440 0h160v-160H620v160ZM180-180h160v-160H180v160Zm440 0h160v-160H620v160Z\"/>\n",
              "  </svg>\n",
              "    </button>\n",
              "\n",
              "  <style>\n",
              "    .colab-df-container {\n",
              "      display:flex;\n",
              "      gap: 12px;\n",
              "    }\n",
              "\n",
              "    .colab-df-convert {\n",
              "      background-color: #E8F0FE;\n",
              "      border: none;\n",
              "      border-radius: 50%;\n",
              "      cursor: pointer;\n",
              "      display: none;\n",
              "      fill: #1967D2;\n",
              "      height: 32px;\n",
              "      padding: 0 0 0 0;\n",
              "      width: 32px;\n",
              "    }\n",
              "\n",
              "    .colab-df-convert:hover {\n",
              "      background-color: #E2EBFA;\n",
              "      box-shadow: 0px 1px 2px rgba(60, 64, 67, 0.3), 0px 1px 3px 1px rgba(60, 64, 67, 0.15);\n",
              "      fill: #174EA6;\n",
              "    }\n",
              "\n",
              "    .colab-df-buttons div {\n",
              "      margin-bottom: 4px;\n",
              "    }\n",
              "\n",
              "    [theme=dark] .colab-df-convert {\n",
              "      background-color: #3B4455;\n",
              "      fill: #D2E3FC;\n",
              "    }\n",
              "\n",
              "    [theme=dark] .colab-df-convert:hover {\n",
              "      background-color: #434B5C;\n",
              "      box-shadow: 0px 1px 3px 1px rgba(0, 0, 0, 0.15);\n",
              "      filter: drop-shadow(0px 1px 2px rgba(0, 0, 0, 0.3));\n",
              "      fill: #FFFFFF;\n",
              "    }\n",
              "  </style>\n",
              "\n",
              "    <script>\n",
              "      const buttonEl =\n",
              "        document.querySelector('#df-befd1a96-9365-43ea-a9d5-454077dc0fa7 button.colab-df-convert');\n",
              "      buttonEl.style.display =\n",
              "        google.colab.kernel.accessAllowed ? 'block' : 'none';\n",
              "\n",
              "      async function convertToInteractive(key) {\n",
              "        const element = document.querySelector('#df-befd1a96-9365-43ea-a9d5-454077dc0fa7');\n",
              "        const dataTable =\n",
              "          await google.colab.kernel.invokeFunction('convertToInteractive',\n",
              "                                                    [key], {});\n",
              "        if (!dataTable) return;\n",
              "\n",
              "        const docLinkHtml = 'Like what you see? Visit the ' +\n",
              "          '<a target=\"_blank\" href=https://colab.research.google.com/notebooks/data_table.ipynb>data table notebook</a>'\n",
              "          + ' to learn more about interactive tables.';\n",
              "        element.innerHTML = '';\n",
              "        dataTable['output_type'] = 'display_data';\n",
              "        await google.colab.output.renderOutput(dataTable, element);\n",
              "        const docLink = document.createElement('div');\n",
              "        docLink.innerHTML = docLinkHtml;\n",
              "        element.appendChild(docLink);\n",
              "      }\n",
              "    </script>\n",
              "  </div>\n",
              "\n",
              "\n",
              "<div id=\"df-906f999b-0ef9-4ede-833b-58a5227c96b8\">\n",
              "  <button class=\"colab-df-quickchart\" onclick=\"quickchart('df-906f999b-0ef9-4ede-833b-58a5227c96b8')\"\n",
              "            title=\"Suggest charts.\"\n",
              "            style=\"display:none;\">\n",
              "\n",
              "<svg xmlns=\"http://www.w3.org/2000/svg\" height=\"24px\"viewBox=\"0 0 24 24\"\n",
              "     width=\"24px\">\n",
              "    <g>\n",
              "        <path d=\"M19 3H5c-1.1 0-2 .9-2 2v14c0 1.1.9 2 2 2h14c1.1 0 2-.9 2-2V5c0-1.1-.9-2-2-2zM9 17H7v-7h2v7zm4 0h-2V7h2v10zm4 0h-2v-4h2v4z\"/>\n",
              "    </g>\n",
              "</svg>\n",
              "  </button>\n",
              "\n",
              "<style>\n",
              "  .colab-df-quickchart {\n",
              "    background-color: #E8F0FE;\n",
              "    border: none;\n",
              "    border-radius: 50%;\n",
              "    cursor: pointer;\n",
              "    display: none;\n",
              "    fill: #1967D2;\n",
              "    height: 32px;\n",
              "    padding: 0 0 0 0;\n",
              "    width: 32px;\n",
              "  }\n",
              "\n",
              "  .colab-df-quickchart:hover {\n",
              "    background-color: #E2EBFA;\n",
              "    box-shadow: 0px 1px 2px rgba(60, 64, 67, 0.3), 0px 1px 3px 1px rgba(60, 64, 67, 0.15);\n",
              "    fill: #174EA6;\n",
              "  }\n",
              "\n",
              "  [theme=dark] .colab-df-quickchart {\n",
              "    background-color: #3B4455;\n",
              "    fill: #D2E3FC;\n",
              "  }\n",
              "\n",
              "  [theme=dark] .colab-df-quickchart:hover {\n",
              "    background-color: #434B5C;\n",
              "    box-shadow: 0px 1px 3px 1px rgba(0, 0, 0, 0.15);\n",
              "    filter: drop-shadow(0px 1px 2px rgba(0, 0, 0, 0.3));\n",
              "    fill: #FFFFFF;\n",
              "  }\n",
              "</style>\n",
              "\n",
              "  <script>\n",
              "    async function quickchart(key) {\n",
              "      const charts = await google.colab.kernel.invokeFunction(\n",
              "          'suggestCharts', [key], {});\n",
              "    }\n",
              "    (() => {\n",
              "      let quickchartButtonEl =\n",
              "        document.querySelector('#df-906f999b-0ef9-4ede-833b-58a5227c96b8 button');\n",
              "      quickchartButtonEl.style.display =\n",
              "        google.colab.kernel.accessAllowed ? 'block' : 'none';\n",
              "    })();\n",
              "  </script>\n",
              "</div>\n",
              "    </div>\n",
              "  </div>\n"
            ]
          },
          "metadata": {},
          "execution_count": 3
        }
      ]
    },
    {
      "cell_type": "code",
      "source": [
        "data_test.head()"
      ],
      "metadata": {
        "colab": {
          "base_uri": "https://localhost:8080/",
          "height": 206
        },
        "id": "bN2HAn1hqwif",
        "outputId": "c35a804a-6cf3-4082-824a-5a478cbb8898"
      },
      "execution_count": 4,
      "outputs": [
        {
          "output_type": "execute_result",
          "data": {
            "text/plain": [
              "                                       original_text     source  pornografi  \\\n",
              "0  1.BUKAN CM SPANDUK PROF,VIDEO2 ORASI MEREKA, B...    twitter           0   \n",
              "1  @memeqbeceq gy sange'gatel yh tetek'memekY drn...    twitter           1   \n",
              "2  Pertama kali denger lagunya enk bgt in dan png...  instagram           0   \n",
              "3  astajim, ini pasti yg kasih penghargaan ke ibu...     kaskus           0   \n",
              "4  beda kalo disini kalo komplain lgs di bully am...     kaskus           0   \n",
              "\n",
              "   sara  radikalisme  pencemaran_nama_baik  \n",
              "0     0            1                     0  \n",
              "1     0            0                     0  \n",
              "2     0            0                     0  \n",
              "3     0            0                     0  \n",
              "4     0            0                     0  "
            ],
            "text/html": [
              "\n",
              "  <div id=\"df-2148eb72-78c4-4795-9d6a-1c55064e46d4\" class=\"colab-df-container\">\n",
              "    <div>\n",
              "<style scoped>\n",
              "    .dataframe tbody tr th:only-of-type {\n",
              "        vertical-align: middle;\n",
              "    }\n",
              "\n",
              "    .dataframe tbody tr th {\n",
              "        vertical-align: top;\n",
              "    }\n",
              "\n",
              "    .dataframe thead th {\n",
              "        text-align: right;\n",
              "    }\n",
              "</style>\n",
              "<table border=\"1\" class=\"dataframe\">\n",
              "  <thead>\n",
              "    <tr style=\"text-align: right;\">\n",
              "      <th></th>\n",
              "      <th>original_text</th>\n",
              "      <th>source</th>\n",
              "      <th>pornografi</th>\n",
              "      <th>sara</th>\n",
              "      <th>radikalisme</th>\n",
              "      <th>pencemaran_nama_baik</th>\n",
              "    </tr>\n",
              "  </thead>\n",
              "  <tbody>\n",
              "    <tr>\n",
              "      <th>0</th>\n",
              "      <td>1.BUKAN CM SPANDUK PROF,VIDEO2 ORASI MEREKA, B...</td>\n",
              "      <td>twitter</td>\n",
              "      <td>0</td>\n",
              "      <td>0</td>\n",
              "      <td>1</td>\n",
              "      <td>0</td>\n",
              "    </tr>\n",
              "    <tr>\n",
              "      <th>1</th>\n",
              "      <td>@memeqbeceq gy sange'gatel yh tetek'memekY drn...</td>\n",
              "      <td>twitter</td>\n",
              "      <td>1</td>\n",
              "      <td>0</td>\n",
              "      <td>0</td>\n",
              "      <td>0</td>\n",
              "    </tr>\n",
              "    <tr>\n",
              "      <th>2</th>\n",
              "      <td>Pertama kali denger lagunya enk bgt in dan png...</td>\n",
              "      <td>instagram</td>\n",
              "      <td>0</td>\n",
              "      <td>0</td>\n",
              "      <td>0</td>\n",
              "      <td>0</td>\n",
              "    </tr>\n",
              "    <tr>\n",
              "      <th>3</th>\n",
              "      <td>astajim, ini pasti yg kasih penghargaan ke ibu...</td>\n",
              "      <td>kaskus</td>\n",
              "      <td>0</td>\n",
              "      <td>0</td>\n",
              "      <td>0</td>\n",
              "      <td>0</td>\n",
              "    </tr>\n",
              "    <tr>\n",
              "      <th>4</th>\n",
              "      <td>beda kalo disini kalo komplain lgs di bully am...</td>\n",
              "      <td>kaskus</td>\n",
              "      <td>0</td>\n",
              "      <td>0</td>\n",
              "      <td>0</td>\n",
              "      <td>0</td>\n",
              "    </tr>\n",
              "  </tbody>\n",
              "</table>\n",
              "</div>\n",
              "    <div class=\"colab-df-buttons\">\n",
              "\n",
              "  <div class=\"colab-df-container\">\n",
              "    <button class=\"colab-df-convert\" onclick=\"convertToInteractive('df-2148eb72-78c4-4795-9d6a-1c55064e46d4')\"\n",
              "            title=\"Convert this dataframe to an interactive table.\"\n",
              "            style=\"display:none;\">\n",
              "\n",
              "  <svg xmlns=\"http://www.w3.org/2000/svg\" height=\"24px\" viewBox=\"0 -960 960 960\">\n",
              "    <path d=\"M120-120v-720h720v720H120Zm60-500h600v-160H180v160Zm220 220h160v-160H400v160Zm0 220h160v-160H400v160ZM180-400h160v-160H180v160Zm440 0h160v-160H620v160ZM180-180h160v-160H180v160Zm440 0h160v-160H620v160Z\"/>\n",
              "  </svg>\n",
              "    </button>\n",
              "\n",
              "  <style>\n",
              "    .colab-df-container {\n",
              "      display:flex;\n",
              "      gap: 12px;\n",
              "    }\n",
              "\n",
              "    .colab-df-convert {\n",
              "      background-color: #E8F0FE;\n",
              "      border: none;\n",
              "      border-radius: 50%;\n",
              "      cursor: pointer;\n",
              "      display: none;\n",
              "      fill: #1967D2;\n",
              "      height: 32px;\n",
              "      padding: 0 0 0 0;\n",
              "      width: 32px;\n",
              "    }\n",
              "\n",
              "    .colab-df-convert:hover {\n",
              "      background-color: #E2EBFA;\n",
              "      box-shadow: 0px 1px 2px rgba(60, 64, 67, 0.3), 0px 1px 3px 1px rgba(60, 64, 67, 0.15);\n",
              "      fill: #174EA6;\n",
              "    }\n",
              "\n",
              "    .colab-df-buttons div {\n",
              "      margin-bottom: 4px;\n",
              "    }\n",
              "\n",
              "    [theme=dark] .colab-df-convert {\n",
              "      background-color: #3B4455;\n",
              "      fill: #D2E3FC;\n",
              "    }\n",
              "\n",
              "    [theme=dark] .colab-df-convert:hover {\n",
              "      background-color: #434B5C;\n",
              "      box-shadow: 0px 1px 3px 1px rgba(0, 0, 0, 0.15);\n",
              "      filter: drop-shadow(0px 1px 2px rgba(0, 0, 0, 0.3));\n",
              "      fill: #FFFFFF;\n",
              "    }\n",
              "  </style>\n",
              "\n",
              "    <script>\n",
              "      const buttonEl =\n",
              "        document.querySelector('#df-2148eb72-78c4-4795-9d6a-1c55064e46d4 button.colab-df-convert');\n",
              "      buttonEl.style.display =\n",
              "        google.colab.kernel.accessAllowed ? 'block' : 'none';\n",
              "\n",
              "      async function convertToInteractive(key) {\n",
              "        const element = document.querySelector('#df-2148eb72-78c4-4795-9d6a-1c55064e46d4');\n",
              "        const dataTable =\n",
              "          await google.colab.kernel.invokeFunction('convertToInteractive',\n",
              "                                                    [key], {});\n",
              "        if (!dataTable) return;\n",
              "\n",
              "        const docLinkHtml = 'Like what you see? Visit the ' +\n",
              "          '<a target=\"_blank\" href=https://colab.research.google.com/notebooks/data_table.ipynb>data table notebook</a>'\n",
              "          + ' to learn more about interactive tables.';\n",
              "        element.innerHTML = '';\n",
              "        dataTable['output_type'] = 'display_data';\n",
              "        await google.colab.output.renderOutput(dataTable, element);\n",
              "        const docLink = document.createElement('div');\n",
              "        docLink.innerHTML = docLinkHtml;\n",
              "        element.appendChild(docLink);\n",
              "      }\n",
              "    </script>\n",
              "  </div>\n",
              "\n",
              "\n",
              "<div id=\"df-21f10761-5162-430b-b754-58464da71f62\">\n",
              "  <button class=\"colab-df-quickchart\" onclick=\"quickchart('df-21f10761-5162-430b-b754-58464da71f62')\"\n",
              "            title=\"Suggest charts.\"\n",
              "            style=\"display:none;\">\n",
              "\n",
              "<svg xmlns=\"http://www.w3.org/2000/svg\" height=\"24px\"viewBox=\"0 0 24 24\"\n",
              "     width=\"24px\">\n",
              "    <g>\n",
              "        <path d=\"M19 3H5c-1.1 0-2 .9-2 2v14c0 1.1.9 2 2 2h14c1.1 0 2-.9 2-2V5c0-1.1-.9-2-2-2zM9 17H7v-7h2v7zm4 0h-2V7h2v10zm4 0h-2v-4h2v4z\"/>\n",
              "    </g>\n",
              "</svg>\n",
              "  </button>\n",
              "\n",
              "<style>\n",
              "  .colab-df-quickchart {\n",
              "    background-color: #E8F0FE;\n",
              "    border: none;\n",
              "    border-radius: 50%;\n",
              "    cursor: pointer;\n",
              "    display: none;\n",
              "    fill: #1967D2;\n",
              "    height: 32px;\n",
              "    padding: 0 0 0 0;\n",
              "    width: 32px;\n",
              "  }\n",
              "\n",
              "  .colab-df-quickchart:hover {\n",
              "    background-color: #E2EBFA;\n",
              "    box-shadow: 0px 1px 2px rgba(60, 64, 67, 0.3), 0px 1px 3px 1px rgba(60, 64, 67, 0.15);\n",
              "    fill: #174EA6;\n",
              "  }\n",
              "\n",
              "  [theme=dark] .colab-df-quickchart {\n",
              "    background-color: #3B4455;\n",
              "    fill: #D2E3FC;\n",
              "  }\n",
              "\n",
              "  [theme=dark] .colab-df-quickchart:hover {\n",
              "    background-color: #434B5C;\n",
              "    box-shadow: 0px 1px 3px 1px rgba(0, 0, 0, 0.15);\n",
              "    filter: drop-shadow(0px 1px 2px rgba(0, 0, 0, 0.3));\n",
              "    fill: #FFFFFF;\n",
              "  }\n",
              "</style>\n",
              "\n",
              "  <script>\n",
              "    async function quickchart(key) {\n",
              "      const charts = await google.colab.kernel.invokeFunction(\n",
              "          'suggestCharts', [key], {});\n",
              "    }\n",
              "    (() => {\n",
              "      let quickchartButtonEl =\n",
              "        document.querySelector('#df-21f10761-5162-430b-b754-58464da71f62 button');\n",
              "      quickchartButtonEl.style.display =\n",
              "        google.colab.kernel.accessAllowed ? 'block' : 'none';\n",
              "    })();\n",
              "  </script>\n",
              "</div>\n",
              "    </div>\n",
              "  </div>\n"
            ]
          },
          "metadata": {},
          "execution_count": 4
        }
      ]
    },
    {
      "cell_type": "markdown",
      "source": [
        "Dapat dilihat, data teks tersebut masih kotor sehingga kita perlu melakukan text cleansing agar peforma model machine learning nanti bisa menjadi lebih baik."
      ],
      "metadata": {
        "id": "bndcec6PWBH0"
      }
    },
    {
      "cell_type": "markdown",
      "source": [
        "### Data Preprocessing"
      ],
      "metadata": {
        "id": "GxdIAidBOThH"
      }
    },
    {
      "cell_type": "markdown",
      "source": [
        "Dalam pengolahan data teks, tentunya ada sedikit perbedaan dasar dalam mempersiapkan data yang akan dianalisis. Berbeda sedikit dengan pengolahan data biasa(raw data), pengolahan data teks membutuhkan beberapa proses seperti berikut:\n",
        "\n",
        "- Mengubah kata menjadi lowercase\n",
        "- Translate Text-Based Emojis\n",
        "- Menghapus Baris Baru\n",
        "- Menghapus Format Kaskus\n",
        "- Menghapus URL\n",
        "- Menghapus Spasi yang Berlebihan\n",
        "- Tokenization\n",
        "- Mengubah Kata Slang\n",
        "- Menghapus Character Non-Alphabet\n",
        "- Menghapus Format Instagram dan Twitter\n",
        "- Menghapus Character yang Berulang"
      ],
      "metadata": {
        "id": "QWvnBhKLV1GB"
      }
    },
    {
      "cell_type": "markdown",
      "source": [
        "#### Translate Text-Based Emojis"
      ],
      "metadata": {
        "id": "3xYkQInTWhYV"
      }
    },
    {
      "cell_type": "code",
      "source": [
        "# Translate emoticon\n",
        "emoticon_data_path = 'https://raw.githubusercontent.com/syahvan/indo-toxic-comment-classification/main/data/emoticon.txt'\n",
        "emoticon_df = pd.read_csv(emoticon_data_path, sep='\\t', header=None)\n",
        "emoticon_dict = dict(zip(emoticon_df[0], emoticon_df[1]))\n",
        "\n",
        "def translate_emoticon(t):\n",
        "    for w, v in emoticon_dict.items():\n",
        "        pattern = re.compile(re.escape(w))\n",
        "        match = re.search(pattern,t)\n",
        "        if match:\n",
        "            t = re.sub(pattern,v,t)\n",
        "    return t"
      ],
      "metadata": {
        "id": "fMcEH3yPBbbe"
      },
      "execution_count": 5,
      "outputs": []
    },
    {
      "cell_type": "code",
      "source": [
        "sample_text = 'seru deh acaranya :-)'\n",
        "\n",
        "print('Before :', sample_text)\n",
        "print('After  :', translate_emoticon(sample_text))"
      ],
      "metadata": {
        "colab": {
          "base_uri": "https://localhost:8080/"
        },
        "id": "g0hXY0gaOv7w",
        "outputId": "1dcb9d10-96b0-40f6-c54f-e10dd9941e9a"
      },
      "execution_count": 6,
      "outputs": [
        {
          "output_type": "stream",
          "name": "stdout",
          "text": [
            "Before : seru deh acaranya :-)\n",
            "After  : seru deh acaranya Bahagia\n"
          ]
        }
      ]
    },
    {
      "cell_type": "markdown",
      "source": [
        "#### Menghapus Baris Baru"
      ],
      "metadata": {
        "id": "ON26SD8NWqZp"
      }
    },
    {
      "cell_type": "code",
      "source": [
        "def remove_newline(text):\n",
        "    return re.sub('\\n', ' ',text)"
      ],
      "metadata": {
        "id": "TN2zn1xyOx4p"
      },
      "execution_count": 7,
      "outputs": []
    },
    {
      "cell_type": "code",
      "source": [
        "sample_text = 'hari ini\\nhari\\nsabtu'\n",
        "\n",
        "print('Before :', sample_text)\n",
        "print('After  :', remove_newline(sample_text))"
      ],
      "metadata": {
        "colab": {
          "base_uri": "https://localhost:8080/"
        },
        "id": "iL6FhvA9PQ9r",
        "outputId": "4091621e-29d4-41c5-fb11-a15632b11302"
      },
      "execution_count": 8,
      "outputs": [
        {
          "output_type": "stream",
          "name": "stdout",
          "text": [
            "Before : hari ini\n",
            "hari\n",
            "sabtu\n",
            "After  : hari ini hari sabtu\n"
          ]
        }
      ]
    },
    {
      "cell_type": "markdown",
      "source": [
        "#### Menghapus Format Kaskus"
      ],
      "metadata": {
        "id": "Kwk6BTrQXTgb"
      }
    },
    {
      "cell_type": "code",
      "source": [
        "def remove_kaskus_formatting(text):\n",
        "    text = re.sub('\\[', ' [', text)\n",
        "    text = re.sub('\\]', '] ', text)\n",
        "    text = re.sub('\\[quote[^ ]*\\].*?\\[\\/quote\\]', ' ', text)\n",
        "    text = re.sub('\\[[^ ]*\\]', ' ', text)\n",
        "    text = re.sub('&quot;', ' ', text)\n",
        "    return text"
      ],
      "metadata": {
        "id": "m9xsaA7xPTtZ"
      },
      "execution_count": 9,
      "outputs": []
    },
    {
      "cell_type": "code",
      "source": [
        "sample_text = '[QUOTE=jessepinkman16;5a50ac34d89b093f368b456e]yoiii cuy halo halo bandung[/QUOTE]'\n",
        "\n",
        "print('Before :', sample_text)\n",
        "print('After  :', remove_kaskus_formatting(sample_text))"
      ],
      "metadata": {
        "colab": {
          "base_uri": "https://localhost:8080/"
        },
        "id": "IWXNIOGpPWJD",
        "outputId": "d08265e2-a5ef-47e1-ef8a-841d3406d8ad"
      },
      "execution_count": 10,
      "outputs": [
        {
          "output_type": "stream",
          "name": "stdout",
          "text": [
            "Before : [QUOTE=jessepinkman16;5a50ac34d89b093f368b456e]yoiii cuy halo halo bandung[/QUOTE]\n",
            "After  :    yoiii cuy halo halo bandung   \n"
          ]
        }
      ]
    },
    {
      "cell_type": "markdown",
      "source": [
        "#### Menghapus URL"
      ],
      "metadata": {
        "id": "vuBRf5urXbXs"
      }
    },
    {
      "cell_type": "code",
      "source": [
        "def remove_url(text):\n",
        "    return re.sub('((www\\.[^\\s]+)|(https?://[^\\s]+)|(http?://[^\\s]+))', '', text)"
      ],
      "metadata": {
        "id": "8uFka5nJPcsO"
      },
      "execution_count": 11,
      "outputs": []
    },
    {
      "cell_type": "code",
      "source": [
        "sample_text = 'kemaren kacao bet de www.instagram.com/lele/lili'\n",
        "\n",
        "print('Before :', sample_text)\n",
        "print('After  :', remove_url(sample_text))"
      ],
      "metadata": {
        "colab": {
          "base_uri": "https://localhost:8080/"
        },
        "id": "wah2wxXZPgtw",
        "outputId": "ff189be8-df58-42e5-91d4-32bfd1afdd13"
      },
      "execution_count": 12,
      "outputs": [
        {
          "output_type": "stream",
          "name": "stdout",
          "text": [
            "Before : kemaren kacao bet de www.instagram.com/lele/lili\n",
            "After  : kemaren kacao bet de \n"
          ]
        }
      ]
    },
    {
      "cell_type": "markdown",
      "source": [
        "#### Menghapus Spasi yang Berlebihan"
      ],
      "metadata": {
        "id": "oYULDA_mXg7m"
      }
    },
    {
      "cell_type": "code",
      "source": [
        "def remove_excessive_whitespace(text):\n",
        "    return re.sub('  +', ' ', text)"
      ],
      "metadata": {
        "id": "Uwd0uejqPi7g"
      },
      "execution_count": 13,
      "outputs": []
    },
    {
      "cell_type": "code",
      "source": [
        "sample_text = 'budi      pergi ke           pasar'\n",
        "\n",
        "print('Before :', sample_text)\n",
        "print('After  :', remove_excessive_whitespace(sample_text))"
      ],
      "metadata": {
        "colab": {
          "base_uri": "https://localhost:8080/"
        },
        "id": "BCjwkBEiPna_",
        "outputId": "5fb6ccb3-692b-4cdb-bb07-e1412966b4a5"
      },
      "execution_count": 14,
      "outputs": [
        {
          "output_type": "stream",
          "name": "stdout",
          "text": [
            "Before : budi      pergi ke           pasar\n",
            "After  : budi pergi ke pasar\n"
          ]
        }
      ]
    },
    {
      "cell_type": "markdown",
      "source": [
        "#### Tokenization"
      ],
      "metadata": {
        "id": "FClZp_76dy-j"
      }
    },
    {
      "cell_type": "code",
      "source": [
        "def tokenize_text(text, punct=False):\n",
        "    text = WordPunctTokenizer().tokenize(text)\n",
        "    text = [word for word in text if punct or word.isalnum()]\n",
        "    text = ' '.join(text)\n",
        "    text = text.strip()\n",
        "    return text"
      ],
      "metadata": {
        "id": "CiV-R7_gPp-J"
      },
      "execution_count": 15,
      "outputs": []
    },
    {
      "cell_type": "code",
      "source": [
        "sample_text = 'kemarin,aku pergi ke dagas.terus ketemu sama Ilham.'\n",
        "\n",
        "print('Before :', sample_text)\n",
        "print('After  :', tokenize_text(sample_text))"
      ],
      "metadata": {
        "colab": {
          "base_uri": "https://localhost:8080/"
        },
        "id": "m9p5DyQwP_3m",
        "outputId": "3b733449-6217-41ad-83d8-ffaec20d48b8"
      },
      "execution_count": 16,
      "outputs": [
        {
          "output_type": "stream",
          "name": "stdout",
          "text": [
            "Before : kemarin,aku pergi ke dagas.terus ketemu sama Ilham.\n",
            "After  : kemarin aku pergi ke dagas terus ketemu sama Ilham\n"
          ]
        }
      ]
    },
    {
      "cell_type": "markdown",
      "source": [
        "#### Mengubah Kata Slang"
      ],
      "metadata": {
        "id": "AivZglR8d7eI"
      }
    },
    {
      "cell_type": "code",
      "source": [
        "slang_words = pd.read_csv('https://raw.githubusercontent.com/syahvan/indo-toxic-comment-classification/main/data/slangword.csv')\n",
        "slang_dict = dict(zip(slang_words['original'],slang_words['translated']))\n",
        "\n",
        "def transform_slang_words(text):\n",
        "    word_list = text.split()\n",
        "    word_list_len = len(word_list)\n",
        "    transformed_word_list = []\n",
        "    i = 0\n",
        "    while i < word_list_len:\n",
        "        if (i + 1) < word_list_len:\n",
        "            two_words = ' '.join(word_list[i:i+2])\n",
        "            if two_words in slang_dict:\n",
        "                transformed_word_list.append(slang_dict[two_words])\n",
        "                i += 2\n",
        "                continue\n",
        "        transformed_word_list.append(slang_dict.get(word_list[i], word_list[i]))\n",
        "        i += 1\n",
        "    return ' '.join(transformed_word_list)"
      ],
      "metadata": {
        "id": "hk06K1nPQGc6"
      },
      "execution_count": 17,
      "outputs": []
    },
    {
      "cell_type": "code",
      "source": [
        "sample_text = 'siap mas sebentar lagi saya sampai 7an'\n",
        "\n",
        "print('Before :', sample_text)\n",
        "print('After  :', transform_slang_words(sample_text))"
      ],
      "metadata": {
        "colab": {
          "base_uri": "https://localhost:8080/"
        },
        "id": "KD1Le8ZEQRqb",
        "outputId": "f082ecf2-98cf-42ab-a018-688594ca3a08"
      },
      "execution_count": 18,
      "outputs": [
        {
          "output_type": "stream",
          "name": "stdout",
          "text": [
            "Before : siap mas sebentar lagi saya sampai 7an\n",
            "After  : siap mas sebentar lagi saya sampai tujuan\n"
          ]
        }
      ]
    },
    {
      "cell_type": "markdown",
      "source": [
        "#### Menghapus Character Non-Alphabet"
      ],
      "metadata": {
        "id": "P4bqHqToeH0Z"
      }
    },
    {
      "cell_type": "code",
      "source": [
        "def remove_non_alphabet(text):\n",
        "    output = re.sub('[^a-zA-Z ]+', '', text)\n",
        "    return output"
      ],
      "metadata": {
        "id": "kfbvWWjnQfnP"
      },
      "execution_count": 19,
      "outputs": []
    },
    {
      "cell_type": "code",
      "source": [
        "sample_text = 'kemaren tu123 ada kelinci di kebun'\n",
        "\n",
        "print('Before :', sample_text)\n",
        "print('After  :', remove_non_alphabet(sample_text))"
      ],
      "metadata": {
        "colab": {
          "base_uri": "https://localhost:8080/"
        },
        "id": "gLFSnS9NQzwj",
        "outputId": "c4401097-a749-4fdb-8b9a-6e1e32dd9483"
      },
      "execution_count": 20,
      "outputs": [
        {
          "output_type": "stream",
          "name": "stdout",
          "text": [
            "Before : kemaren tu123 ada kelinci di kebun\n",
            "After  : kemaren tu ada kelinci di kebun\n"
          ]
        }
      ]
    },
    {
      "cell_type": "markdown",
      "source": [
        "#### Menghapus Format Instagram dan Twitter"
      ],
      "metadata": {
        "id": "kU6rT_KPeWHx"
      }
    },
    {
      "cell_type": "code",
      "source": [
        "def remove_twitter_ig_formatting(text):\n",
        "    text = re.sub(r'@[A-Za-z0-9]+', '', text)\n",
        "    text = re.sub(r'\\brt\\b', '', text)\n",
        "    return text"
      ],
      "metadata": {
        "id": "J2e0NmDJQ2-R"
      },
      "execution_count": 21,
      "outputs": []
    },
    {
      "cell_type": "code",
      "source": [
        "sample_text = '@jonijon menurut saya hal tersebut masih kurang baik dilakukan sih kak'\n",
        "\n",
        "print('Before :', sample_text)\n",
        "print('After  :', remove_twitter_ig_formatting(sample_text))"
      ],
      "metadata": {
        "colab": {
          "base_uri": "https://localhost:8080/"
        },
        "id": "Xy-eERkmULnQ",
        "outputId": "daece228-72fd-43ee-dbef-5a68c9970238"
      },
      "execution_count": 22,
      "outputs": [
        {
          "output_type": "stream",
          "name": "stdout",
          "text": [
            "Before : @jonijon menurut saya hal tersebut masih kurang baik dilakukan sih kak\n",
            "After  :  menurut saya hal tersebut masih kurang baik dilakukan sih kak\n"
          ]
        }
      ]
    },
    {
      "cell_type": "markdown",
      "source": [
        "#### Menghapus Character yang Berulang"
      ],
      "metadata": {
        "id": "0JfKaYbhee0j"
      }
    },
    {
      "cell_type": "code",
      "source": [
        "def remove_repeating_characters(text):\n",
        "    return ''.join(''.join(s)[:1] for _, s in itertools.groupby(text))"
      ],
      "metadata": {
        "id": "Fc5mO6tpUOX3"
      },
      "execution_count": 23,
      "outputs": []
    },
    {
      "cell_type": "code",
      "source": [
        "sample_text = 'heyyyyyyyyyyyyyyyyyyyy kenapa tadi?'\n",
        "\n",
        "print('Before :', sample_text)\n",
        "print('After  :', remove_repeating_characters(sample_text))"
      ],
      "metadata": {
        "colab": {
          "base_uri": "https://localhost:8080/"
        },
        "id": "DuJjJWY2UXMl",
        "outputId": "32dde35f-ae46-40b0-8755-337cf74b6023"
      },
      "execution_count": 24,
      "outputs": [
        {
          "output_type": "stream",
          "name": "stdout",
          "text": [
            "Before : heyyyyyyyyyyyyyyyyyyyy kenapa tadi?\n",
            "After  : hey kenapa tadi?\n"
          ]
        }
      ]
    },
    {
      "cell_type": "markdown",
      "source": [
        "#### Final Preprocessing Method\n"
      ],
      "metadata": {
        "id": "lDmc19obUqX6"
      }
    },
    {
      "cell_type": "code",
      "source": [
        "def preprocess_text(text):\n",
        "    transformed_text = text.lower()\n",
        "    transformed_text = remove_newline(text)\n",
        "    transformed_text = remove_url(transformed_text)\n",
        "    transformed_text = remove_twitter_ig_formatting(transformed_text)\n",
        "    transformed_text = remove_kaskus_formatting(transformed_text)\n",
        "    transformed_text = translate_emoticon(transformed_text)\n",
        "    transformed_text = transformed_text.lower()\n",
        "    transformed_text = tokenize_text(transformed_text)\n",
        "    transformed_text = transform_slang_words(transformed_text)\n",
        "    transformed_text = remove_repeating_characters(transformed_text)\n",
        "    transformed_text = transform_slang_words(transformed_text)\n",
        "    transformed_text = remove_non_alphabet(transformed_text)\n",
        "    transformed_text = remove_excessive_whitespace(transformed_text)\n",
        "    transformed_text = transformed_text.lower().strip()\n",
        "    return transformed_text"
      ],
      "metadata": {
        "id": "WdJwPY6nUaoJ"
      },
      "execution_count": 25,
      "outputs": []
    },
    {
      "cell_type": "markdown",
      "source": [
        "Mari kita coba aplikasikan ke data train dan test yang kita miliki."
      ],
      "metadata": {
        "id": "QyJaEpNHU8Pu"
      }
    },
    {
      "cell_type": "code",
      "source": [
        "data_train['processed_text'] = data_train['original_text'].apply(preprocess_text)\n",
        "data_test['processed_text'] = data_test['original_text'].apply(preprocess_text)"
      ],
      "metadata": {
        "id": "IQiTdClVU5XR"
      },
      "execution_count": 27,
      "outputs": []
    },
    {
      "cell_type": "code",
      "source": [
        "data_train.head()"
      ],
      "metadata": {
        "colab": {
          "base_uri": "https://localhost:8080/",
          "height": 206
        },
        "id": "sczsEQ3LVL6q",
        "outputId": "e51afdea-567d-4b3f-f054-555121e446fb"
      },
      "execution_count": 28,
      "outputs": [
        {
          "output_type": "execute_result",
          "data": {
            "text/plain": [
              "                                       original_text     source  pornografi  \\\n",
              "0  [QUOTE=jessepinkman16;5a50ac34d89b093f368b456e...     kaskus           0   \n",
              "1  @verosvante kita2 aja nitizen yang pada kepo,t...  instagram           0   \n",
              "2  \"#SidangAhok smg sipenista agama n ateknya mat...    twitter           0   \n",
              "3  @bolususulembang.jkt barusan baca undang2 ini....  instagram           0   \n",
              "4  bikin anak mulu lu nof \\nkaga mikir apa kasian...     kaskus           0   \n",
              "\n",
              "   sara  radikalisme  pencemaran_nama_baik  \\\n",
              "0     0            0                     1   \n",
              "1     0            0                     0   \n",
              "2     1            1                     1   \n",
              "3     0            0                     0   \n",
              "4     0            0                     0   \n",
              "\n",
              "                                      processed_text  \n",
              "0  jabar memang provinsi barokah boleh juga dan n...  \n",
              "1  kita saja nitizen yang pada penasaran toh kelu...  \n",
              "2  sidangahok semoga sipenista agama dan ateknya ...  \n",
              "3  jakarta barusan baca undang ini tetap dibedaka...  \n",
              "4  buat anak melulu kamu nof nkaga mikir apa kasi...  "
            ],
            "text/html": [
              "\n",
              "  <div id=\"df-52b8ec34-6c50-4260-a17c-3c3a45dcdf30\" class=\"colab-df-container\">\n",
              "    <div>\n",
              "<style scoped>\n",
              "    .dataframe tbody tr th:only-of-type {\n",
              "        vertical-align: middle;\n",
              "    }\n",
              "\n",
              "    .dataframe tbody tr th {\n",
              "        vertical-align: top;\n",
              "    }\n",
              "\n",
              "    .dataframe thead th {\n",
              "        text-align: right;\n",
              "    }\n",
              "</style>\n",
              "<table border=\"1\" class=\"dataframe\">\n",
              "  <thead>\n",
              "    <tr style=\"text-align: right;\">\n",
              "      <th></th>\n",
              "      <th>original_text</th>\n",
              "      <th>source</th>\n",
              "      <th>pornografi</th>\n",
              "      <th>sara</th>\n",
              "      <th>radikalisme</th>\n",
              "      <th>pencemaran_nama_baik</th>\n",
              "      <th>processed_text</th>\n",
              "    </tr>\n",
              "  </thead>\n",
              "  <tbody>\n",
              "    <tr>\n",
              "      <th>0</th>\n",
              "      <td>[QUOTE=jessepinkman16;5a50ac34d89b093f368b456e...</td>\n",
              "      <td>kaskus</td>\n",
              "      <td>0</td>\n",
              "      <td>0</td>\n",
              "      <td>0</td>\n",
              "      <td>1</td>\n",
              "      <td>jabar memang provinsi barokah boleh juga dan n...</td>\n",
              "    </tr>\n",
              "    <tr>\n",
              "      <th>1</th>\n",
              "      <td>@verosvante kita2 aja nitizen yang pada kepo,t...</td>\n",
              "      <td>instagram</td>\n",
              "      <td>0</td>\n",
              "      <td>0</td>\n",
              "      <td>0</td>\n",
              "      <td>0</td>\n",
              "      <td>kita saja nitizen yang pada penasaran toh kelu...</td>\n",
              "    </tr>\n",
              "    <tr>\n",
              "      <th>2</th>\n",
              "      <td>\"#SidangAhok smg sipenista agama n ateknya mat...</td>\n",
              "      <td>twitter</td>\n",
              "      <td>0</td>\n",
              "      <td>1</td>\n",
              "      <td>1</td>\n",
              "      <td>1</td>\n",
              "      <td>sidangahok semoga sipenista agama dan ateknya ...</td>\n",
              "    </tr>\n",
              "    <tr>\n",
              "      <th>3</th>\n",
              "      <td>@bolususulembang.jkt barusan baca undang2 ini....</td>\n",
              "      <td>instagram</td>\n",
              "      <td>0</td>\n",
              "      <td>0</td>\n",
              "      <td>0</td>\n",
              "      <td>0</td>\n",
              "      <td>jakarta barusan baca undang ini tetap dibedaka...</td>\n",
              "    </tr>\n",
              "    <tr>\n",
              "      <th>4</th>\n",
              "      <td>bikin anak mulu lu nof \\nkaga mikir apa kasian...</td>\n",
              "      <td>kaskus</td>\n",
              "      <td>0</td>\n",
              "      <td>0</td>\n",
              "      <td>0</td>\n",
              "      <td>0</td>\n",
              "      <td>buat anak melulu kamu nof nkaga mikir apa kasi...</td>\n",
              "    </tr>\n",
              "  </tbody>\n",
              "</table>\n",
              "</div>\n",
              "    <div class=\"colab-df-buttons\">\n",
              "\n",
              "  <div class=\"colab-df-container\">\n",
              "    <button class=\"colab-df-convert\" onclick=\"convertToInteractive('df-52b8ec34-6c50-4260-a17c-3c3a45dcdf30')\"\n",
              "            title=\"Convert this dataframe to an interactive table.\"\n",
              "            style=\"display:none;\">\n",
              "\n",
              "  <svg xmlns=\"http://www.w3.org/2000/svg\" height=\"24px\" viewBox=\"0 -960 960 960\">\n",
              "    <path d=\"M120-120v-720h720v720H120Zm60-500h600v-160H180v160Zm220 220h160v-160H400v160Zm0 220h160v-160H400v160ZM180-400h160v-160H180v160Zm440 0h160v-160H620v160ZM180-180h160v-160H180v160Zm440 0h160v-160H620v160Z\"/>\n",
              "  </svg>\n",
              "    </button>\n",
              "\n",
              "  <style>\n",
              "    .colab-df-container {\n",
              "      display:flex;\n",
              "      gap: 12px;\n",
              "    }\n",
              "\n",
              "    .colab-df-convert {\n",
              "      background-color: #E8F0FE;\n",
              "      border: none;\n",
              "      border-radius: 50%;\n",
              "      cursor: pointer;\n",
              "      display: none;\n",
              "      fill: #1967D2;\n",
              "      height: 32px;\n",
              "      padding: 0 0 0 0;\n",
              "      width: 32px;\n",
              "    }\n",
              "\n",
              "    .colab-df-convert:hover {\n",
              "      background-color: #E2EBFA;\n",
              "      box-shadow: 0px 1px 2px rgba(60, 64, 67, 0.3), 0px 1px 3px 1px rgba(60, 64, 67, 0.15);\n",
              "      fill: #174EA6;\n",
              "    }\n",
              "\n",
              "    .colab-df-buttons div {\n",
              "      margin-bottom: 4px;\n",
              "    }\n",
              "\n",
              "    [theme=dark] .colab-df-convert {\n",
              "      background-color: #3B4455;\n",
              "      fill: #D2E3FC;\n",
              "    }\n",
              "\n",
              "    [theme=dark] .colab-df-convert:hover {\n",
              "      background-color: #434B5C;\n",
              "      box-shadow: 0px 1px 3px 1px rgba(0, 0, 0, 0.15);\n",
              "      filter: drop-shadow(0px 1px 2px rgba(0, 0, 0, 0.3));\n",
              "      fill: #FFFFFF;\n",
              "    }\n",
              "  </style>\n",
              "\n",
              "    <script>\n",
              "      const buttonEl =\n",
              "        document.querySelector('#df-52b8ec34-6c50-4260-a17c-3c3a45dcdf30 button.colab-df-convert');\n",
              "      buttonEl.style.display =\n",
              "        google.colab.kernel.accessAllowed ? 'block' : 'none';\n",
              "\n",
              "      async function convertToInteractive(key) {\n",
              "        const element = document.querySelector('#df-52b8ec34-6c50-4260-a17c-3c3a45dcdf30');\n",
              "        const dataTable =\n",
              "          await google.colab.kernel.invokeFunction('convertToInteractive',\n",
              "                                                    [key], {});\n",
              "        if (!dataTable) return;\n",
              "\n",
              "        const docLinkHtml = 'Like what you see? Visit the ' +\n",
              "          '<a target=\"_blank\" href=https://colab.research.google.com/notebooks/data_table.ipynb>data table notebook</a>'\n",
              "          + ' to learn more about interactive tables.';\n",
              "        element.innerHTML = '';\n",
              "        dataTable['output_type'] = 'display_data';\n",
              "        await google.colab.output.renderOutput(dataTable, element);\n",
              "        const docLink = document.createElement('div');\n",
              "        docLink.innerHTML = docLinkHtml;\n",
              "        element.appendChild(docLink);\n",
              "      }\n",
              "    </script>\n",
              "  </div>\n",
              "\n",
              "\n",
              "<div id=\"df-83f2d09e-17c3-4593-9e97-63f303eb66c0\">\n",
              "  <button class=\"colab-df-quickchart\" onclick=\"quickchart('df-83f2d09e-17c3-4593-9e97-63f303eb66c0')\"\n",
              "            title=\"Suggest charts.\"\n",
              "            style=\"display:none;\">\n",
              "\n",
              "<svg xmlns=\"http://www.w3.org/2000/svg\" height=\"24px\"viewBox=\"0 0 24 24\"\n",
              "     width=\"24px\">\n",
              "    <g>\n",
              "        <path d=\"M19 3H5c-1.1 0-2 .9-2 2v14c0 1.1.9 2 2 2h14c1.1 0 2-.9 2-2V5c0-1.1-.9-2-2-2zM9 17H7v-7h2v7zm4 0h-2V7h2v10zm4 0h-2v-4h2v4z\"/>\n",
              "    </g>\n",
              "</svg>\n",
              "  </button>\n",
              "\n",
              "<style>\n",
              "  .colab-df-quickchart {\n",
              "    background-color: #E8F0FE;\n",
              "    border: none;\n",
              "    border-radius: 50%;\n",
              "    cursor: pointer;\n",
              "    display: none;\n",
              "    fill: #1967D2;\n",
              "    height: 32px;\n",
              "    padding: 0 0 0 0;\n",
              "    width: 32px;\n",
              "  }\n",
              "\n",
              "  .colab-df-quickchart:hover {\n",
              "    background-color: #E2EBFA;\n",
              "    box-shadow: 0px 1px 2px rgba(60, 64, 67, 0.3), 0px 1px 3px 1px rgba(60, 64, 67, 0.15);\n",
              "    fill: #174EA6;\n",
              "  }\n",
              "\n",
              "  [theme=dark] .colab-df-quickchart {\n",
              "    background-color: #3B4455;\n",
              "    fill: #D2E3FC;\n",
              "  }\n",
              "\n",
              "  [theme=dark] .colab-df-quickchart:hover {\n",
              "    background-color: #434B5C;\n",
              "    box-shadow: 0px 1px 3px 1px rgba(0, 0, 0, 0.15);\n",
              "    filter: drop-shadow(0px 1px 2px rgba(0, 0, 0, 0.3));\n",
              "    fill: #FFFFFF;\n",
              "  }\n",
              "</style>\n",
              "\n",
              "  <script>\n",
              "    async function quickchart(key) {\n",
              "      const charts = await google.colab.kernel.invokeFunction(\n",
              "          'suggestCharts', [key], {});\n",
              "    }\n",
              "    (() => {\n",
              "      let quickchartButtonEl =\n",
              "        document.querySelector('#df-83f2d09e-17c3-4593-9e97-63f303eb66c0 button');\n",
              "      quickchartButtonEl.style.display =\n",
              "        google.colab.kernel.accessAllowed ? 'block' : 'none';\n",
              "    })();\n",
              "  </script>\n",
              "</div>\n",
              "    </div>\n",
              "  </div>\n"
            ]
          },
          "metadata": {},
          "execution_count": 28
        }
      ]
    },
    {
      "cell_type": "code",
      "source": [
        "data_test.head()"
      ],
      "metadata": {
        "colab": {
          "base_uri": "https://localhost:8080/",
          "height": 206
        },
        "id": "xER-kb3BVT2D",
        "outputId": "0013aa01-eed5-4640-ecea-21b44f39d285"
      },
      "execution_count": 29,
      "outputs": [
        {
          "output_type": "execute_result",
          "data": {
            "text/plain": [
              "                                       original_text     source  pornografi  \\\n",
              "0  1.BUKAN CM SPANDUK PROF,VIDEO2 ORASI MEREKA, B...    twitter           0   \n",
              "1  @memeqbeceq gy sange'gatel yh tetek'memekY drn...    twitter           1   \n",
              "2  Pertama kali denger lagunya enk bgt in dan png...  instagram           0   \n",
              "3  astajim, ini pasti yg kasih penghargaan ke ibu...     kaskus           0   \n",
              "4  beda kalo disini kalo komplain lgs di bully am...     kaskus           0   \n",
              "\n",
              "   sara  radikalisme  pencemaran_nama_baik  \\\n",
              "0     0            1                     0   \n",
              "1     0            0                     0   \n",
              "2     0            0                     0   \n",
              "3     0            0                     0   \n",
              "4     0            0                     0   \n",
              "\n",
              "                                      processed_text  \n",
              "0  bukan hanya spanduk prof video orasi mereka bu...  \n",
              "1  gy sange gatel yh tetek memeky drnjng tempat t...  \n",
              "2  pertama kali denger lagunya enk sekali in dan ...  \n",
              "3  astajim ini pasti yang kasih penghargan ke ibu...  \n",
              "4  beda kalau di sini kalau keluhan langsung di b...  "
            ],
            "text/html": [
              "\n",
              "  <div id=\"df-c22c2035-360e-4fd3-bb4b-13d976341f1b\" class=\"colab-df-container\">\n",
              "    <div>\n",
              "<style scoped>\n",
              "    .dataframe tbody tr th:only-of-type {\n",
              "        vertical-align: middle;\n",
              "    }\n",
              "\n",
              "    .dataframe tbody tr th {\n",
              "        vertical-align: top;\n",
              "    }\n",
              "\n",
              "    .dataframe thead th {\n",
              "        text-align: right;\n",
              "    }\n",
              "</style>\n",
              "<table border=\"1\" class=\"dataframe\">\n",
              "  <thead>\n",
              "    <tr style=\"text-align: right;\">\n",
              "      <th></th>\n",
              "      <th>original_text</th>\n",
              "      <th>source</th>\n",
              "      <th>pornografi</th>\n",
              "      <th>sara</th>\n",
              "      <th>radikalisme</th>\n",
              "      <th>pencemaran_nama_baik</th>\n",
              "      <th>processed_text</th>\n",
              "    </tr>\n",
              "  </thead>\n",
              "  <tbody>\n",
              "    <tr>\n",
              "      <th>0</th>\n",
              "      <td>1.BUKAN CM SPANDUK PROF,VIDEO2 ORASI MEREKA, B...</td>\n",
              "      <td>twitter</td>\n",
              "      <td>0</td>\n",
              "      <td>0</td>\n",
              "      <td>1</td>\n",
              "      <td>0</td>\n",
              "      <td>bukan hanya spanduk prof video orasi mereka bu...</td>\n",
              "    </tr>\n",
              "    <tr>\n",
              "      <th>1</th>\n",
              "      <td>@memeqbeceq gy sange'gatel yh tetek'memekY drn...</td>\n",
              "      <td>twitter</td>\n",
              "      <td>1</td>\n",
              "      <td>0</td>\n",
              "      <td>0</td>\n",
              "      <td>0</td>\n",
              "      <td>gy sange gatel yh tetek memeky drnjng tempat t...</td>\n",
              "    </tr>\n",
              "    <tr>\n",
              "      <th>2</th>\n",
              "      <td>Pertama kali denger lagunya enk bgt in dan png...</td>\n",
              "      <td>instagram</td>\n",
              "      <td>0</td>\n",
              "      <td>0</td>\n",
              "      <td>0</td>\n",
              "      <td>0</td>\n",
              "      <td>pertama kali denger lagunya enk sekali in dan ...</td>\n",
              "    </tr>\n",
              "    <tr>\n",
              "      <th>3</th>\n",
              "      <td>astajim, ini pasti yg kasih penghargaan ke ibu...</td>\n",
              "      <td>kaskus</td>\n",
              "      <td>0</td>\n",
              "      <td>0</td>\n",
              "      <td>0</td>\n",
              "      <td>0</td>\n",
              "      <td>astajim ini pasti yang kasih penghargan ke ibu...</td>\n",
              "    </tr>\n",
              "    <tr>\n",
              "      <th>4</th>\n",
              "      <td>beda kalo disini kalo komplain lgs di bully am...</td>\n",
              "      <td>kaskus</td>\n",
              "      <td>0</td>\n",
              "      <td>0</td>\n",
              "      <td>0</td>\n",
              "      <td>0</td>\n",
              "      <td>beda kalau di sini kalau keluhan langsung di b...</td>\n",
              "    </tr>\n",
              "  </tbody>\n",
              "</table>\n",
              "</div>\n",
              "    <div class=\"colab-df-buttons\">\n",
              "\n",
              "  <div class=\"colab-df-container\">\n",
              "    <button class=\"colab-df-convert\" onclick=\"convertToInteractive('df-c22c2035-360e-4fd3-bb4b-13d976341f1b')\"\n",
              "            title=\"Convert this dataframe to an interactive table.\"\n",
              "            style=\"display:none;\">\n",
              "\n",
              "  <svg xmlns=\"http://www.w3.org/2000/svg\" height=\"24px\" viewBox=\"0 -960 960 960\">\n",
              "    <path d=\"M120-120v-720h720v720H120Zm60-500h600v-160H180v160Zm220 220h160v-160H400v160Zm0 220h160v-160H400v160ZM180-400h160v-160H180v160Zm440 0h160v-160H620v160ZM180-180h160v-160H180v160Zm440 0h160v-160H620v160Z\"/>\n",
              "  </svg>\n",
              "    </button>\n",
              "\n",
              "  <style>\n",
              "    .colab-df-container {\n",
              "      display:flex;\n",
              "      gap: 12px;\n",
              "    }\n",
              "\n",
              "    .colab-df-convert {\n",
              "      background-color: #E8F0FE;\n",
              "      border: none;\n",
              "      border-radius: 50%;\n",
              "      cursor: pointer;\n",
              "      display: none;\n",
              "      fill: #1967D2;\n",
              "      height: 32px;\n",
              "      padding: 0 0 0 0;\n",
              "      width: 32px;\n",
              "    }\n",
              "\n",
              "    .colab-df-convert:hover {\n",
              "      background-color: #E2EBFA;\n",
              "      box-shadow: 0px 1px 2px rgba(60, 64, 67, 0.3), 0px 1px 3px 1px rgba(60, 64, 67, 0.15);\n",
              "      fill: #174EA6;\n",
              "    }\n",
              "\n",
              "    .colab-df-buttons div {\n",
              "      margin-bottom: 4px;\n",
              "    }\n",
              "\n",
              "    [theme=dark] .colab-df-convert {\n",
              "      background-color: #3B4455;\n",
              "      fill: #D2E3FC;\n",
              "    }\n",
              "\n",
              "    [theme=dark] .colab-df-convert:hover {\n",
              "      background-color: #434B5C;\n",
              "      box-shadow: 0px 1px 3px 1px rgba(0, 0, 0, 0.15);\n",
              "      filter: drop-shadow(0px 1px 2px rgba(0, 0, 0, 0.3));\n",
              "      fill: #FFFFFF;\n",
              "    }\n",
              "  </style>\n",
              "\n",
              "    <script>\n",
              "      const buttonEl =\n",
              "        document.querySelector('#df-c22c2035-360e-4fd3-bb4b-13d976341f1b button.colab-df-convert');\n",
              "      buttonEl.style.display =\n",
              "        google.colab.kernel.accessAllowed ? 'block' : 'none';\n",
              "\n",
              "      async function convertToInteractive(key) {\n",
              "        const element = document.querySelector('#df-c22c2035-360e-4fd3-bb4b-13d976341f1b');\n",
              "        const dataTable =\n",
              "          await google.colab.kernel.invokeFunction('convertToInteractive',\n",
              "                                                    [key], {});\n",
              "        if (!dataTable) return;\n",
              "\n",
              "        const docLinkHtml = 'Like what you see? Visit the ' +\n",
              "          '<a target=\"_blank\" href=https://colab.research.google.com/notebooks/data_table.ipynb>data table notebook</a>'\n",
              "          + ' to learn more about interactive tables.';\n",
              "        element.innerHTML = '';\n",
              "        dataTable['output_type'] = 'display_data';\n",
              "        await google.colab.output.renderOutput(dataTable, element);\n",
              "        const docLink = document.createElement('div');\n",
              "        docLink.innerHTML = docLinkHtml;\n",
              "        element.appendChild(docLink);\n",
              "      }\n",
              "    </script>\n",
              "  </div>\n",
              "\n",
              "\n",
              "<div id=\"df-8486c340-35bb-48bb-8bde-3510cbf4f711\">\n",
              "  <button class=\"colab-df-quickchart\" onclick=\"quickchart('df-8486c340-35bb-48bb-8bde-3510cbf4f711')\"\n",
              "            title=\"Suggest charts.\"\n",
              "            style=\"display:none;\">\n",
              "\n",
              "<svg xmlns=\"http://www.w3.org/2000/svg\" height=\"24px\"viewBox=\"0 0 24 24\"\n",
              "     width=\"24px\">\n",
              "    <g>\n",
              "        <path d=\"M19 3H5c-1.1 0-2 .9-2 2v14c0 1.1.9 2 2 2h14c1.1 0 2-.9 2-2V5c0-1.1-.9-2-2-2zM9 17H7v-7h2v7zm4 0h-2V7h2v10zm4 0h-2v-4h2v4z\"/>\n",
              "    </g>\n",
              "</svg>\n",
              "  </button>\n",
              "\n",
              "<style>\n",
              "  .colab-df-quickchart {\n",
              "    background-color: #E8F0FE;\n",
              "    border: none;\n",
              "    border-radius: 50%;\n",
              "    cursor: pointer;\n",
              "    display: none;\n",
              "    fill: #1967D2;\n",
              "    height: 32px;\n",
              "    padding: 0 0 0 0;\n",
              "    width: 32px;\n",
              "  }\n",
              "\n",
              "  .colab-df-quickchart:hover {\n",
              "    background-color: #E2EBFA;\n",
              "    box-shadow: 0px 1px 2px rgba(60, 64, 67, 0.3), 0px 1px 3px 1px rgba(60, 64, 67, 0.15);\n",
              "    fill: #174EA6;\n",
              "  }\n",
              "\n",
              "  [theme=dark] .colab-df-quickchart {\n",
              "    background-color: #3B4455;\n",
              "    fill: #D2E3FC;\n",
              "  }\n",
              "\n",
              "  [theme=dark] .colab-df-quickchart:hover {\n",
              "    background-color: #434B5C;\n",
              "    box-shadow: 0px 1px 3px 1px rgba(0, 0, 0, 0.15);\n",
              "    filter: drop-shadow(0px 1px 2px rgba(0, 0, 0, 0.3));\n",
              "    fill: #FFFFFF;\n",
              "  }\n",
              "</style>\n",
              "\n",
              "  <script>\n",
              "    async function quickchart(key) {\n",
              "      const charts = await google.colab.kernel.invokeFunction(\n",
              "          'suggestCharts', [key], {});\n",
              "    }\n",
              "    (() => {\n",
              "      let quickchartButtonEl =\n",
              "        document.querySelector('#df-8486c340-35bb-48bb-8bde-3510cbf4f711 button');\n",
              "      quickchartButtonEl.style.display =\n",
              "        google.colab.kernel.accessAllowed ? 'block' : 'none';\n",
              "    })();\n",
              "  </script>\n",
              "</div>\n",
              "    </div>\n",
              "  </div>\n"
            ]
          },
          "metadata": {},
          "execution_count": 29
        }
      ]
    },
    {
      "cell_type": "code",
      "source": [],
      "metadata": {
        "id": "XyXNqNj9VW9j"
      },
      "execution_count": null,
      "outputs": []
    }
  ]
}